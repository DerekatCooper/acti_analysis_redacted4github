{
 "cells": [
  {
   "cell_type": "code",
   "execution_count": 1,
   "metadata": {},
   "outputs": [],
   "source": [
    "import matplotlib.pyplot as plt\n",
    "import numpy as np\n",
    "import pandas as pd\n",
    "from scipy import stats"
   ]
  },
  {
   "cell_type": "code",
   "execution_count": 2,
   "metadata": {},
   "outputs": [],
   "source": [
    "dark = pd.read_excel(r'xxx.xlsx')"
   ]
  },
  {
   "cell_type": "code",
   "execution_count": 3,
   "metadata": {},
   "outputs": [],
   "source": [
    "darker = dark[dark[\"2nd >2hr sleep period post tsd\"] == False]\n",
    "darkest = dark[dark[\"2nd >2hr sleep period post tsd\"] == True]\n",
    "derk = dark[dark[\"HC?\"]==False]\n",
    "dirk = dark[dark[\"HC?\"]==True]"
   ]
  },
  {
   "cell_type": "code",
   "execution_count": null,
   "metadata": {},
   "outputs": [],
   "source": [
    "data1 = dark[\"be4\"]\n",
    "data2 = dark[\"aftr\"]\n",
    "fig = plt.figure()\n",
    "ax = fig.add_axes([0, 0, 1, 1])\n",
    "ax.boxplot([data1, data2], showmeans= True,meanline=True)\n",
    "ax.set_ylabel('Total sleep time (minutes)')\n",
    "plt.show()\n"
   ]
  },
  {
   "cell_type": "code",
   "execution_count": 86,
   "metadata": {},
   "outputs": [
    {
     "data": {
      "text/plain": [
       "-17.714285714285715"
      ]
     },
     "execution_count": 86,
     "metadata": {},
     "output_type": "execute_result"
    }
   ],
   "source": [
    "derk[\"TST change\"].drop(7).mean()"
   ]
  },
  {
   "cell_type": "code",
   "execution_count": 6,
   "metadata": {},
   "outputs": [
    {
     "data": {
      "text/plain": [
       "0    14.0\n",
       "1   -20.0\n",
       "2    50.0\n",
       "3   -31.0\n",
       "4    22.0\n",
       "5   -96.0\n",
       "6   -63.0\n",
       "Name: TST change, dtype: float64"
      ]
     },
     "execution_count": 6,
     "metadata": {},
     "output_type": "execute_result"
    }
   ],
   "source": [
    "derk[\"TST change\"].drop(7)"
   ]
  },
  {
   "cell_type": "code",
   "execution_count": null,
   "metadata": {},
   "outputs": [],
   "source": [
    "data1 = dirk[\"TST change\"]\n",
    "data2 = derk[\"TST change\"].drop(7)\n",
    "fig = plt.figure()\n",
    "ax = fig.add_axes([0, 0, 1, 1])\n",
    "ax.boxplot([data1, data2], showmeans= True,meanline=True)\n",
    "ax.set_ylabel('Change (minutes)')\n",
    "plt.title('Total sleep time change among healthy control (1) and MDD patients (2)')\n",
    "plt.show()"
   ]
  },
  {
   "cell_type": "code",
   "execution_count": null,
   "metadata": {},
   "outputs": [],
   "source": [
    "data1 = derk[\"be4\"]\n",
    "data2 = derk[\"aftr\"]\n",
    "fig = plt.figure()\n",
    "ax = fig.add_axes([0, 0, 1, 1])\n",
    "ax.boxplot([data1, data2], showmeans= True,meanline=True)\n",
    "ax.set_ylabel('Total sleep time (minutes)')\n",
    "plt.show()\n"
   ]
  },
  {
   "cell_type": "code",
   "execution_count": null,
   "metadata": {},
   "outputs": [],
   "source": [
    "data1.mean() - data2.mean()"
   ]
  },
  {
   "cell_type": "code",
   "execution_count": 21,
   "metadata": {},
   "outputs": [
    {
     "data": {
      "text/plain": [
       "Ttest_indResult(statistic=-0.13811276729432181, pvalue=0.8930168272609419)"
      ]
     },
     "execution_count": 21,
     "metadata": {},
     "output_type": "execute_result"
    }
   ],
   "source": [
    "stats.ttest_ind(data1,data2, equal_var= False)"
   ]
  },
  {
   "cell_type": "code",
   "execution_count": null,
   "metadata": {},
   "outputs": [],
   "source": [
    "fig = plt.figure()\n",
    "ax = fig.add_axes([0, 0, 1, 1])\n",
    "ax.boxplot([dark[\"TST change\"], darker[\"TST change\"], darkest[\"TST change\"]], showmeans= True,meanline=True)\n",
    "ax.set_ylabel('Total sleep time change (minutes)')\n",
    "plt.show()"
   ]
  },
  {
   "cell_type": "code",
   "execution_count": null,
   "metadata": {},
   "outputs": [],
   "source": [
    "fig = plt.figure()\n",
    "ax = fig.add_axes([0, 0, 1, 1])\n",
    "ax.boxplot([derk[\"TST change\"], dirk[\"TST change\"]], showmeans= True,meanline=True)\n",
    "ax.set_ylabel('Total sleep time change (minutes)')\n",
    "plt.show()"
   ]
  },
  {
   "cell_type": "code",
   "execution_count": 16,
   "metadata": {},
   "outputs": [
    {
     "data": {
      "text/plain": [
       "Ttest_indResult(statistic=0.7840170054753769, pvalue=0.4422688495179038)"
      ]
     },
     "execution_count": 16,
     "metadata": {},
     "output_type": "execute_result"
    }
   ],
   "source": [
    "stats.ttest_ind(dark[\"TST change\"], darker[\"TST change\"], equal_var=False)"
   ]
  },
  {
   "cell_type": "code",
   "execution_count": null,
   "metadata": {},
   "outputs": [],
   "source": [
    "plt.errorbar(np.arange(2), [np.mean(dark[\"TST change\"]),np.mean(darker[\"TST change\"])] ,[np.std(dark[\"TST change\"]),np.std(darker[\"TST change\"])],fmt='ok', lw=3)"
   ]
  },
  {
   "cell_type": "code",
   "execution_count": null,
   "metadata": {},
   "outputs": [],
   "source": [
    "data1 = dark[\"b4\"]\n",
    "data2 = dark[\"after\"]\n",
    "fig = plt.figure()\n",
    "ax = fig.add_axes([0, 0, 1, 1])\n",
    "ax.boxplot([data1, data2], showmeans= True,meanline=True)\n",
    "ax.set_ylabel('Wake after sleep onset')\n",
    "plt.show()"
   ]
  },
  {
   "cell_type": "code",
   "execution_count": 31,
   "metadata": {},
   "outputs": [
    {
     "data": {
      "text/plain": [
       "Ttest_indResult(statistic=0.3481492834045701, pvalue=0.7329075326656471)"
      ]
     },
     "execution_count": 31,
     "metadata": {},
     "output_type": "execute_result"
    }
   ],
   "source": [
    "stats.ttest_ind(dirk[\"b4\"],dirk[\"after\"])"
   ]
  },
  {
   "cell_type": "code",
   "execution_count": null,
   "metadata": {},
   "outputs": [],
   "source": [
    "data1 = derk[\"b4\"]\n",
    "data2 = derk[\"after\"]\n",
    "fig = plt.figure()\n",
    "ax = fig.add_axes([0, 0, 1, 1])\n",
    "ax.boxplot([data1, data2], showmeans= True,meanline=True)\n",
    "ax.set_ylabel('Wake after sleep onset')\n",
    "plt.show()"
   ]
  },
  {
   "cell_type": "code",
   "execution_count": null,
   "metadata": {},
   "outputs": [],
   "source": [
    "stats.ttest_ind(data1,data2,equal_var=False)"
   ]
  },
  {
   "cell_type": "code",
   "execution_count": null,
   "metadata": {},
   "outputs": [],
   "source": [
    "fig = plt.figure()\n",
    "ax = fig.add_axes([0, 0, 1, 1])\n",
    "ax.boxplot([dark[\"WASO\"], darker[\"WASO\"], darkest[\"WASO\"]], showmeans= True,meanline=True)\n",
    "ax.set_ylabel('Change in WASO')"
   ]
  },
  {
   "cell_type": "code",
   "execution_count": null,
   "metadata": {},
   "outputs": [],
   "source": [
    "dark[\"WASO\"]"
   ]
  },
  {
   "cell_type": "code",
   "execution_count": null,
   "metadata": {},
   "outputs": [],
   "source": [
    "derk[\"WASO\"]"
   ]
  },
  {
   "cell_type": "code",
   "execution_count": null,
   "metadata": {},
   "outputs": [],
   "source": [
    "dirk[\"WASO\"]"
   ]
  },
  {
   "cell_type": "code",
   "execution_count": null,
   "metadata": {},
   "outputs": [],
   "source": [
    "fig = plt.figure()\n",
    "ax = fig.add_axes([0, 0, 1, 1])\n",
    "ax.boxplot([dark[\"WASO\"].drop(0), darker[\"WASO\"], darkest[\"WASO\"],dirk[\"WASO\"],derk[\"WASO\"].drop(0)], showmeans= True,meanline=True)\n",
    "ax.set_ylabel('WASO change')\n",
    "plt.legend(['All subjects',\"No napping\", \"Consistent nap after TSD\", \"Healthy controls\", \"MDD patients\"],loc = \"upper right\")\n",
    "plt.title(\"WASO change by group\")\n"
   ]
  },
  {
   "cell_type": "code",
   "execution_count": 38,
   "metadata": {},
   "outputs": [
    {
     "data": {
      "text/plain": [
       "-7.571428571428571"
      ]
     },
     "execution_count": 38,
     "metadata": {},
     "output_type": "execute_result"
    }
   ],
   "source": [
    "dirk[\"WASO\"].drop(0).mean()"
   ]
  },
  {
   "cell_type": "code",
   "execution_count": 30,
   "metadata": {},
   "outputs": [
    {
     "data": {
      "text/plain": [
       "Ttest_indResult(statistic=-0.425302338666835, pvalue=0.6781435953944457)"
      ]
     },
     "execution_count": 30,
     "metadata": {},
     "output_type": "execute_result"
    }
   ],
   "source": [
    "stats.ttest_ind(darker[\"WASO\"], darkest[\"WASO\"])"
   ]
  },
  {
   "cell_type": "code",
   "execution_count": null,
   "metadata": {},
   "outputs": [],
   "source": [
    "stats.ttest_ind(darker[\"WASO\"].drop(0), darkest[\"WASO\"],equal_var = False)"
   ]
  },
  {
   "cell_type": "code",
   "execution_count": null,
   "metadata": {},
   "outputs": [],
   "source": [
    "derk[\"sleep efficiency change\"].drop(7)"
   ]
  },
  {
   "cell_type": "code",
   "execution_count": null,
   "metadata": {},
   "outputs": [],
   "source": [
    "derk[\"Ham-D change\"].drop(7)"
   ]
  },
  {
   "cell_type": "code",
   "execution_count": 75,
   "metadata": {},
   "outputs": [
    {
     "data": {
      "text/plain": [
       "LinregressResult(slope=-96.67943592059719, intercept=-5.616612931436991, rvalue=-0.5667383863123471, pvalue=0.1846288583268068, stderr=62.85499915969428, intercept_stderr=2.2390145714146596)"
      ]
     },
     "execution_count": 75,
     "metadata": {},
     "output_type": "execute_result"
    }
   ],
   "source": [
    "stats.linregress(derk[\"sleep efficiency change\"].drop(7), derk[\"Ham-D change\"].drop(7))"
   ]
  },
  {
   "cell_type": "code",
   "execution_count": null,
   "metadata": {},
   "outputs": [],
   "source": [
    "plt.scatter(derk[\"sleep efficiency change\"].drop(7)*100, derk[\"Ham-D change\"].drop(7))\n",
    "a,b = np.polyfit(derk[\"sleep efficiency change\"].drop(7)*100, derk[\"Ham-D change\"].drop(7), 1)\n",
    "x = np.linspace(-10, 8)\n",
    "plt.plot(x, (a*x+b))\n",
    "plt.ylabel('Change in HAM-D')\n",
    "plt.xlabel('Sleep efficiency change (%)')\n",
    "plt.title(\"Correlation between HAM-D and Sleep efficiency\")"
   ]
  },
  {
   "cell_type": "code",
   "execution_count": null,
   "metadata": {},
   "outputs": [],
   "source": [
    "b"
   ]
  },
  {
   "cell_type": "code",
   "execution_count": null,
   "metadata": {},
   "outputs": [],
   "source": [
    "data1 = dark[\"before\"]\n",
    "data2 = dark[\"afton\"]\n",
    "fig = plt.figure()\n",
    "ax = fig.add_axes([0, 0, 1, 1])\n",
    "ax.boxplot([data1, data2], showmeans= True,meanline=True)\n",
    "ax.set_ylabel('Sleep efficiency')"
   ]
  },
  {
   "cell_type": "code",
   "execution_count": null,
   "metadata": {},
   "outputs": [],
   "source": [
    "stats.ttest_ind(dark[\"before\"],dark[\"afton\"])"
   ]
  },
  {
   "cell_type": "code",
   "execution_count": null,
   "metadata": {},
   "outputs": [],
   "source": [
    "fig = plt.figure()\n",
    "ax = fig.add_axes([0, 0, 1, 1])\n",
    "ax.boxplot([dark[\"sleep efficiency change\"], darker[\"sleep efficiency change\"],  darkest[\"sleep efficiency change\"]], showmeans= True,meanline=True)\n",
    "ax.set_ylabel('Sleep Efficiency Change')"
   ]
  },
  {
   "cell_type": "code",
   "execution_count": null,
   "metadata": {},
   "outputs": [],
   "source": [
    "stats.ttest_ind(darker[\"sleep efficiency change\"],  darkest[\"sleep efficiency change\"])"
   ]
  },
  {
   "cell_type": "code",
   "execution_count": null,
   "metadata": {},
   "outputs": [],
   "source": [
    "data1 = dark[\"bfor\"]\n",
    "data2 = dark[\"aft\"]\n",
    "fig = plt.figure()\n",
    "ax = fig.add_axes([0, 0, 1, 1])\n",
    "ax.boxplot([data1, data2], showmeans= True,meanline=True)\n",
    "ax.set_ylabel('Awakenings')"
   ]
  },
  {
   "cell_type": "code",
   "execution_count": 28,
   "metadata": {},
   "outputs": [
    {
     "data": {
      "text/plain": [
       "Ttest_indResult(statistic=0.8279374789678006, pvalue=0.41524123569031)"
      ]
     },
     "execution_count": 28,
     "metadata": {},
     "output_type": "execute_result"
    }
   ],
   "source": [
    "stats.ttest_ind(dark[\"bfor\"],dark[\"aft\"])"
   ]
  },
  {
   "cell_type": "code",
   "execution_count": null,
   "metadata": {},
   "outputs": [],
   "source": [
    "fig = plt.figure()\n",
    "ax = fig.add_axes([0, 0, 1, 1])\n",
    "ax.boxplot([dark[\"awkn change\"], darker[\"awkn change\"]], showmeans= True,meanline=True)\n",
    "ax.set_ylabel('Awakening change')"
   ]
  }
 ],
 "metadata": {
  "kernelspec": {
   "display_name": "Python 3",
   "language": "python",
   "name": "python3"
  },
  "language_info": {
   "codemirror_mode": {
    "name": "ipython",
    "version": 3
   },
   "file_extension": ".py",
   "mimetype": "text/x-python",
   "name": "python",
   "nbconvert_exporter": "python",
   "pygments_lexer": "ipython3",
   "version": "3.11.2"
  }
 },
 "nbformat": 4,
 "nbformat_minor": 2
}
